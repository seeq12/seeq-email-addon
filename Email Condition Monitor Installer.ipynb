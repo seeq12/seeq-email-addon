{
 "cells": [
  {
   "cell_type": "markdown",
   "metadata": {
    "collapsed": true
   },
   "source": [
    "# Installer for Email Condition Monitor Scheduler\n",
    "\n",
    "This notebook will install the Email Condition Monitor Scheduler as a Data Lab Tool in Workbench.\n",
    "\n",
    "⚠️ Run this notebook at the root of a Seeq Data Lab project.\n",
    "\n",
    "⚠️ Only Seeq Administrators can run this installer to completion, since only Administrators can install Add-ons.\n",
    "\n",
    "At the end, if you have encountered no errors:\n",
    "* You should find 4 files in the folder `Email Condition Monitor` of this SDL project.\n",
    "* The Tools tab in Workbench should have a tool grouping named `Add-ons`.\n",
    "* There should be an add-on named `Condition Monitor Scheduler` among the `Add-ons`.\n",
    "\n",
    "See the [Add-on Tools KB article](https://telemetry.seeq.com/support-link/wiki/spaces/KB/pages/961675391) for further details of Add-on tools."
   ]
  },
  {
   "cell_type": "markdown",
   "metadata": {},
   "source": [
    "## Install the `seeq.addons.email.condition_monitor` package\n",
    "\n",
    "Run the following cell to install the `seeq-email-condition-monitor` from the PyPI repository. Upon successfull completion of the installation, the python kernel will die and restart automatically. If you get a pop up dialog with the title `Kernel Restarting` just click OK to close it and continue running the notebook. \n",
    "\n"
   ]
  },
  {
   "cell_type": "code",
   "execution_count": null,
   "metadata": {},
   "outputs": [],
   "source": [
    "import sys\n",
    "import os\n",
    "!{sys.executable} -m pip install seeq-email-condition-monitor\n",
    "os._exit(00)"
   ]
  },
  {
   "cell_type": "markdown",
   "metadata": {},
   "source": [
    "## Set up configuration file\n",
    "\n",
    "In this step, we configure the connection to the notification function.  When you run the cell below, you will be prompted to input the URL of the notification function and the email address. Follow the prompts and at the end you should see the `Success!` message if the credentials are set up correctly. \n",
    "\n",
    "**NOTE:** The information you input will be stored in a hidden file. Although the file is hidden, anyone that has access to this project also has access to that file and its contents.  \n"
   ]
  },
  {
   "cell_type": "code",
   "execution_count": null,
   "metadata": {
    "pycharm": {
     "is_executing": true
    }
   },
   "outputs": [],
   "source": [
    "from seeq.addons.email.condition_monitor import setup_email_config_file\n",
    "\n",
    "setup_email_config_file()"
   ]
  },
  {
   "cell_type": "markdown",
   "metadata": {},
   "source": [
    "## Register the Condition Monitor Scheduler as a Seeq Add-on\n",
    "\n",
    "Run the following cell to set up the Condition Monitor Scheduler add-on"
   ]
  },
  {
   "cell_type": "code",
   "execution_count": 1,
   "metadata": {},
   "outputs": [],
   "source": [
    "from seeq.addons.email import condition_monitor\n",
    "\n",
    "condition_monitor.install()"
   ]
  }
 ],
 "metadata": {
  "kernelspec": {
   "display_name": "Python 3 (ipykernel)",
   "language": "python",
   "name": "python3"
  },
  "language_info": {
   "codemirror_mode": {
    "name": "ipython",
    "version": 3
   },
   "file_extension": ".py",
   "mimetype": "text/x-python",
   "name": "python",
   "nbconvert_exporter": "python",
   "pygments_lexer": "ipython3",
   "version": "3.8.14"
  }
 },
 "nbformat": 4,
 "nbformat_minor": 1
}